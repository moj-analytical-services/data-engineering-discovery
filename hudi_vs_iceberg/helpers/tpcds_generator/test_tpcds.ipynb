{
 "cells": [
  {
   "cell_type": "code",
   "execution_count": 1,
   "metadata": {
    "vscode": {
     "languageId": "python"
    }
   },
   "outputs": [
    {
     "name": "stdout",
     "output_type": "stream",
     "text": [
      "Current iam_role is arn:aws:iam::684969100054:role/aws-reserved/sso.amazonaws.com/eu-west-2/AWSReservedSSO_AdministratorAccess_ab408ccf26c25b37\n",
      "iam_role has been set to arn:aws:iam::684969100054:role/AdminAccessGlueNotebook.\n",
      "Previous region: eu-west-1\n",
      "Setting new region to: eu-west-1\n",
      "Reauthenticating Glue client with new region: eu-west-1\n",
      "IAM role has been set to arn:aws:iam::684969100054:role/AdminAccessGlueNotebook. Reauthenticating.\n",
      "Authenticating with environment variables and user-defined glue_role_arn: arn:aws:iam::684969100054:role/AdminAccessGlueNotebook\n",
      "Authentication done.\n",
      "Region is set to: eu-west-1\n",
      "Current idle_timeout is 2880 minutes.\n",
      "idle_timeout has been set to 2880 minutes.\n",
      "Setting Glue version to: 3.0\n",
      "Previous worker type: G.1X\n",
      "Setting new worker type to: G.1X\n",
      "Previous number of workers: 5\n",
      "Setting new number of workers to: 10\n",
      "Connections to be included:\n",
      "tpcds-connector-glue3\n",
      "Trying to create a Glue session for the kernel.\n",
      "Worker Type: G.1X\n",
      "Number of Workers: 10\n",
      "Session ID: 09033ed0-fa14-48a6-a34e-5132cc9dbbb6\n",
      "Job Type: glueetl\n",
      "Applying the following default arguments:\n",
      "--glue_kernel_version 0.37.4\n",
      "--enable-glue-datacatalog true\n",
      "Waiting for session 09033ed0-fa14-48a6-a34e-5132cc9dbbb6 to get into ready status...\n",
      "Session 09033ed0-fa14-48a6-a34e-5132cc9dbbb6 has been created.\n",
      "\n"
     ]
    }
   ],
   "source": [
    "%load_ext dotenv\n",
    "%dotenv\n",
    "%iam_role arn:aws:iam::684969100054:role/AdminAccessGlueNotebook\n",
    "%region eu-west-1\n",
    "%idle_timeout 2880\n",
    "%glue_version 3.0\n",
    "%worker_type G.1X\n",
    "%number_of_workers 10\n",
    "%connections tpcds-connector-glue3\n",
    "\n",
    "import sys\n",
    "from awsglue.transforms import *\n",
    "from awsglue.utils import getResolvedOptions\n",
    "from pyspark.context import SparkContext\n",
    "from awsglue.context import GlueContext\n",
    "from awsglue.job import Job\n",
    "  \n",
    "sc = SparkContext.getOrCreate()\n",
    "glue_context = GlueContext(sc)\n",
    "spark = glue_context.spark_session\n",
    "job = Job(glue_context)"
   ]
  },
  {
   "cell_type": "code",
   "execution_count": 2,
   "metadata": {
    "vscode": {
     "languageId": "python"
    }
   },
   "outputs": [
    {
     "name": "stdout",
     "output_type": "stream",
     "text": [
      "{\"t_time_sk\": 0, \"t_time_id\": \"AAAAAAAABAAAAAAA\", \"t_time\": 0, \"t_hour\": 0, \"t_minute\": 0, \"t_second\": 0, \"t_am_pm\": \"AM\", \"t_shift\": \"third\", \"t_sub_shift\": \"night\", \"t_meal_time\": \"\"}\n",
      "{\"t_time_sk\": 1, \"t_time_id\": \"AAAAAAAACAAAAAAA\", \"t_time\": 1, \"t_hour\": 0, \"t_minute\": 0, \"t_second\": 1, \"t_am_pm\": \"AM\", \"t_shift\": \"third\", \"t_sub_shift\": \"night\", \"t_meal_time\": \"\"}\n",
      "{\"t_time_sk\": 2, \"t_time_id\": \"AAAAAAAADAAAAAAA\", \"t_time\": 2, \"t_hour\": 0, \"t_minute\": 0, \"t_second\": 2, \"t_am_pm\": \"AM\", \"t_shift\": \"third\", \"t_sub_shift\": \"night\", \"t_meal_time\": \"\"}\n",
      "{\"t_time_sk\": 3, \"t_time_id\": \"AAAAAAAAEAAAAAAA\", \"t_time\": 3, \"t_hour\": 0, \"t_minute\": 0, \"t_second\": 3, \"t_am_pm\": \"AM\", \"t_shift\": \"third\", \"t_sub_shift\": \"night\", \"t_meal_time\": \"\"}\n",
      "{\"t_time_sk\": 4, \"t_time_id\": \"AAAAAAAAFAAAAAAA\", \"t_time\": 4, \"t_hour\": 0, \"t_minute\": 0, \"t_second\": 4, \"t_am_pm\": \"AM\", \"t_shift\": \"third\", \"t_sub_shift\": \"night\", \"t_meal_time\": \"\"}\n",
      "{\"t_time_sk\": 5, \"t_time_id\": \"AAAAAAAAGAAAAAAA\", \"t_time\": 5, \"t_hour\": 0, \"t_minute\": 0, \"t_second\": 5, \"t_am_pm\": \"AM\", \"t_shift\": \"third\", \"t_sub_shift\": \"night\", \"t_meal_time\": \"\"}\n",
      "{\"t_time_sk\": 6, \"t_time_id\": \"AAAAAAAAHAAAAAAA\", \"t_time\": 6, \"t_hour\": 0, \"t_minute\": 0, \"t_second\": 6, \"t_am_pm\": \"AM\", \"t_shift\": \"third\", \"t_sub_shift\": \"night\", \"t_meal_time\": \"\"}\n",
      "{\"t_time_sk\": 7, \"t_time_id\": \"AAAAAAAAIAAAAAAA\", \"t_time\": 7, \"t_hour\": 0, \"t_minute\": 0, \"t_second\": 7, \"t_am_pm\": \"AM\", \"t_shift\": \"third\", \"t_sub_shift\": \"night\", \"t_meal_time\": \"\"}\n",
      "{\"t_time_sk\": 8, \"t_time_id\": \"AAAAAAAAJAAAAAAA\", \"t_time\": 8, \"t_hour\": 0, \"t_minute\": 0, \"t_second\": 8, \"t_am_pm\": \"AM\", \"t_shift\": \"third\", \"t_sub_shift\": \"night\", \"t_meal_time\": \"\"}\n",
      "{\"t_time_sk\": 9, \"t_time_id\": \"AAAAAAAAKAAAAAAA\", \"t_time\": 9, \"t_hour\": 0, \"t_minute\": 0, \"t_second\": 9, \"t_am_pm\": \"AM\", \"t_shift\": \"third\", \"t_sub_shift\": \"night\", \"t_meal_time\": \"\"}\n"
     ]
    }
   ],
   "source": [
    "dyf = glue_context.create_dynamic_frame.from_options(\n",
    "            connection_type=\"marketplace.spark\",\n",
    "            connection_options={\n",
    "                \"table\": \"time_dim\",\n",
    "                \"scale\": 1,\n",
    "                \"numPartitions\": 36,\n",
    "                \"connectionName\": \"tpcds-connector-glue3\",\n",
    "            },\n",
    "            transformation_ctx=\"dyf\",\n",
    "        )\n",
    "\n",
    "dyf.show(10)"
   ]
  },
  {
   "cell_type": "code",
   "execution_count": 2,
   "metadata": {
    "vscode": {
     "languageId": "python"
    }
   },
   "outputs": [
    {
     "name": "stdout",
     "output_type": "stream",
     "text": [
      "\n"
     ]
    }
   ],
   "source": [
    "bucket_name = \"sb-test-bucket-ireland\"\n",
    "folder_name = \"soumaya/tpcds\"\n",
    "scale = 1\n",
    "partitions = 36\n",
    "database_prefix = f\"sm_tpcds_\"\n",
    "extraction_timestamp = \"2022-01-01\"\n",
    "\n",
    "tables = [\n",
    "    # \"call_center\", \"catalog_returns\",\n",
    "    # \"catalog_page\", \"catalog_sales\",\n",
    "    # \"customer\", \"customer_address\", \"customer_demographics\",\n",
    "    # \"date_dim\", \"dbgen_version\", \"household_demographics\",\n",
    "    # \"income_band\", \"inventory\", \"item\", \"promotion\", \"reason\",\n",
    "    # \"ship_mode\", \"store\", \"store_returns\",\n",
    "    \"store_sales\",\n",
    "    \"time_dim\",\n",
    "    \"warehouse\",\n",
    "    # \"web_page\", \"web_returns\", \"web_sales\", \"web_site\"\n",
    "]"
   ]
  },
  {
   "cell_type": "code",
   "execution_count": 14,
   "metadata": {
    "vscode": {
     "languageId": "python"
    }
   },
   "outputs": [
    {
     "name": "stdout",
     "output_type": "stream",
     "text": [
      "upload: ./tpcds_functions.py to s3://sb-test-bucket-ireland/tpcds/tpcds_functions.py\n"
     ]
    }
   ],
   "source": [
    "! aws s3 cp tpcds_functions.py s3://sb-test-bucket-ireland/tpcds/"
   ]
  },
  {
   "cell_type": "code",
   "execution_count": 3,
   "metadata": {
    "vscode": {
     "languageId": "python"
    }
   },
   "outputs": [
    {
     "name": "stdout",
     "output_type": "stream",
     "text": [
      "\n"
     ]
    }
   ],
   "source": [
    "sc.addPyFile(\"s3://sb-test-bucket-ireland/tpcds/tpcds_functions.py\")"
   ]
  },
  {
   "cell_type": "code",
   "execution_count": 3,
   "metadata": {
    "vscode": {
     "languageId": "python"
    }
   },
   "outputs": [
    {
     "name": "stdout",
     "output_type": "stream",
     "text": [
      "ModuleNotFoundError: No module named 'tpcds_functions'\n"
     ]
    }
   ],
   "source": [
    "from tpcds_functions import create_db_if_not_exists, generate_tables"
   ]
  },
  {
   "cell_type": "code",
   "execution_count": 3,
   "metadata": {
    "vscode": {
     "languageId": "python"
    }
   },
   "outputs": [
    {
     "name": "stdout",
     "output_type": "stream",
     "text": [
      "\n"
     ]
    }
   ],
   "source": [
    "import boto3\n",
    "\n",
    "def create_db_if_not_exists(database_prefix=f\"tpcds_\", scale=1):\n",
    "    database_name = f\"{database_prefix}{scale}\"\n",
    "    try:\n",
    "        glue = boto3.client(\"glue\")\n",
    "        glue.create_database(DatabaseInput={\"Name\": database_name})\n",
    "        print(f\"New database {database_name} created\")\n",
    "    except glue.exceptions.AlreadyExistsException:\n",
    "        print(f\"Database {database_name} already exist\")"
   ]
  },
  {
   "cell_type": "code",
   "execution_count": 4,
   "metadata": {
    "vscode": {
     "languageId": "python"
    }
   },
   "outputs": [
    {
     "name": "stdout",
     "output_type": "stream",
     "text": [
      "Database sm_tpcds_1 already exist\n"
     ]
    }
   ],
   "source": [
    "create_db_if_not_exists(database_prefix=database_prefix, scale=scale)"
   ]
  },
  {
   "cell_type": "code",
   "execution_count": 11,
   "metadata": {
    "vscode": {
     "languageId": "python"
    }
   },
   "outputs": [
    {
     "name": "stdout",
     "output_type": "stream",
     "text": [
      "\n"
     ]
    }
   ],
   "source": [
    "import pyspark.sql.functions as f\n",
    "from awsglue.dynamicframe import DynamicFrame\n",
    "\n",
    "def generate_tables(\n",
    "    glue_context,\n",
    "    tables=[\"store_sales\"],\n",
    "    bucket_name=\"sb-test-bucket-ireland\",\n",
    "    folder_name=\"tpcds\",\n",
    "    database_prefix=f\"tpcds_\",\n",
    "    scale=1,\n",
    "    partitions=36,\n",
    "    extraction_timestamp=\"2022-01-01\",\n",
    "):\n",
    "    database_name = f\"{database_prefix}{scale}\"\n",
    "    for table in tables:\n",
    "        \n",
    "        path = f\"{folder_name}/scale={scale}/table={table}/\"\n",
    "        ## Delete files in S3\n",
    "        s3 = boto3.resource(\"s3\")\n",
    "        bucket = s3.Bucket(bucket_name)\n",
    "        bucket.objects.filter(\n",
    "            Prefix=path\n",
    "        ).delete()\n",
    "\n",
    "        ## Drop table in Glue Data Catalog\n",
    "        try:\n",
    "            glue = boto3.client(\"glue\")\n",
    "            glue.delete_table(DatabaseName=database_name, Name=table)\n",
    "            print(f\"Table {database_name}.{table} dropped\")\n",
    "        except glue.exceptions.EntityNotFoundException:\n",
    "            print(f\"Table {database_name}.{table} does not exist\")\n",
    "\n",
    "        # Create a DynamicFrame for `table`\n",
    "        dyf = glue_context.create_dynamic_frame.from_options(\n",
    "            connection_type=\"marketplace.spark\",\n",
    "            connection_options={\n",
    "                \"table\": table,\n",
    "                \"scale\": scale,\n",
    "                \"numPartitions\": partitions,\n",
    "                \"connectionName\": \"tpcds-connector-glue3\",\n",
    "            },\n",
    "            transformation_ctx=\"dyf\",\n",
    "        )\n",
    "        \n",
    "        df = (\n",
    "            dyf.toDF()\n",
    "            .withColumn(\n",
    "                \"extraction_timestamp\",\n",
    "                f.to_timestamp(f.lit(extraction_timestamp), \"yyyy-MM-dd\"),\n",
    "            )\n",
    "            .withColumn(\"op\", f.lit(None).cast(\"string\"))\n",
    "        )\n",
    "        if table == \"store_sales\":\n",
    "            # create single pk column\n",
    "            df = df.withColumn(\n",
    "                    \"pk\",\n",
    "                    f.concat(\n",
    "                        f.col(\"ss_ticket_number\").cast(\"string\"),\n",
    "                        f.lit(\"-\"),\n",
    "                        f.col(\"ss_item_sk\").cast(\"string\"),\n",
    "                    ),\n",
    "                )\n",
    "        dyf2 = DynamicFrame.fromDF(df, glue_context, \"dyf2\")\n",
    "\n",
    "        # Write the DynamicFrame to S3 and register the table.\n",
    "        sink = glue_context.getSink(\n",
    "            connection_type=\"s3\",\n",
    "            path=f\"s3://{bucket_name}/{path}\",\n",
    "            enableUpdateCatalog=True,\n",
    "            updateBehavior=\"UPDATE_IN_DATABASE\",\n",
    "        )\n",
    "        sink.setFormat(\"glueparquet\")\n",
    "        sink.setCatalogInfo(catalogDatabase=database_name, catalogTableName=table)\n",
    "        sink.writeFrame(dyf2)\n",
    "        print(f\"Table {database_name}.{table} generated\")"
   ]
  },
  {
   "cell_type": "code",
   "execution_count": 12,
   "metadata": {
    "vscode": {
     "languageId": "python"
    }
   },
   "outputs": [
    {
     "name": "stdout",
     "output_type": "stream",
     "text": [
      "Table sm_tpcds_1.store_sales dropped\n",
      "Table sm_tpcds_1.store_sales generated\n",
      "Table sm_tpcds_1.time_dim dropped\n",
      "Table sm_tpcds_1.time_dim generated\n",
      "Table sm_tpcds_1.warehouse dropped\n",
      "Table sm_tpcds_1.warehouse generated\n"
     ]
    }
   ],
   "source": [
    "generate_tables(\n",
    "    glue_context=glue_context,\n",
    "    tables=tables,\n",
    "    bucket_name=bucket_name,\n",
    "    folder_name=folder_name,\n",
    "    database_prefix=database_prefix,\n",
    "    scale=scale,\n",
    "    partitions=partitions,\n",
    "    extraction_timestamp=extraction_timestamp,\n",
    ")"
   ]
  },
  {
   "cell_type": "code",
   "execution_count": null,
   "metadata": {
    "vscode": {
     "languageId": "python"
    }
   },
   "outputs": [],
   "source": [
    "def generate_updates(\n",
    "    glue_context,\n",
    "    source_table = \"store_sales\",\n",
    "    updated_days=[1],\n",
    "    bucket_name=\"sb-test-bucket-ireland\",\n",
    "    folder_name=\"tpcds-updates\",\n",
    "    database_prefix=f\"tpcds_\",\n",
    "    scale=1,\n",
    "    extraction_timestamp=\"2022-01-02\",\n",
    "):\n",
    "    database_name = f\"{database_prefix}{scale}\"\n",
    "    \n",
    "    for update in updated_days:\n",
    "        path = f\"{folder_name}/scale={scale}/table={source_table}/updated_days={update}/\"\n",
    "        table = f\"{source_table}_{update}\"\n",
    "        ## Delete files in S3\n",
    "        s3 = boto3.resource('s3')\n",
    "        bucket = s3.Bucket(bucket_name)\n",
    "        bucket.objects.filter(Prefix=path).delete()\n",
    "        \n",
    "        ## Drop table in Glue Data Catalog\n",
    "        try:\n",
    "            glue = boto3.client('glue')\n",
    "            glue.delete_table(DatabaseName=database_name, Name=table)\n",
    "        except glue.exceptions.EntityNotFoundException:\n",
    "            print(f\"Table {database_name}.{table} does not exist\")\n",
    "        \n",
    "        # Create a DynamicFrame for `table`\n",
    "        dyf = glue_context.create_dynamic_frame.from_catalog(database=database_name, table_name=source_table)\n",
    "        dyf_filter = dyf.filter( f=lambda x: x[\"ss_sold_date_sk\"] in [2450816])\n",
    "        \n",
    "        df = (\n",
    "            dyf_filter.toDF()\n",
    "            .withColumn(\n",
    "                \"extraction_timestamp\",\n",
    "                f.to_timestamp(f.lit(extraction_timestamp), \"yyyy-MM-dd\"),\n",
    "            )\n",
    "            .withColumn(\"op\", f.lit(\"U\").cast(\"string\"))\n",
    "        )\n",
    "        dyf2 = DynamicFrame.fromDF(df, glue_context, \"dyf2\")\n",
    "\n",
    "        # Write the DynamicFrame to S3 and register the table.\n",
    "        sink = glue_context.getSink(\n",
    "            connection_type=\"s3\", \n",
    "            path=f\"s3://{bucket_name}/{path}updated_days={update}/\",\n",
    "            enableUpdateCatalog=True,\n",
    "            updateBehavior=\"UPDATE_IN_DATABASE\")   \n",
    "        sink.setFormat(\"glueparquet\")\n",
    "        sink.setCatalogInfo(catalogDatabase=database_name, catalogTableName=table)\n",
    "        sink.writeFrame(dyf2)"
   ]
  }
 ],
 "metadata": {
  "kernelspec": {
   "display_name": "Glue PySpark",
   "language": "python",
   "name": "glue_pyspark"
  },
  "language_info": {
   "codemirror_mode": {
    "name": "python",
    "version": 3
   },
   "file_extension": ".py",
   "mimetype": "text/x-python",
   "name": "Python_Glue_Session",
   "pygments_lexer": "python3"
  },
  "orig_nbformat": 4
 },
 "nbformat": 4,
 "nbformat_minor": 2
}
