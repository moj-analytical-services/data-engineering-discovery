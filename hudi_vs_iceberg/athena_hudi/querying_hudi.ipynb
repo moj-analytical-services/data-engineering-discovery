{
 "cells": [
  {
   "cell_type": "markdown",
   "id": "87b489d1-9f37-49c1-9eda-6e5af1388873",
   "metadata": {},
   "source": [
    "# Querying Hudi tables via Athena and pydtbools\n",
    "\n",
    "The purpose of this notebook is to demonstrate read compatibility of hudi tables using pydbtools (which is simply a wrapper for awswrangler). It's assumed that the `test_hudi_datbase` has been created using the `dummy_database_creator` found in the `helpers` subdirectory of this project."
   ]
  },
  {
   "cell_type": "code",
   "execution_count": null,
   "id": "601dcbe9-a45e-4606-a241-68bd48a3bf86",
   "metadata": {},
   "outputs": [],
   "source": [
    "import os\n",
    "import time\n",
    "import awswrangler as wr\n",
    "import pydbtools as pydb"
   ]
  },
  {
   "cell_type": "code",
   "execution_count": null,
   "id": "7ac6eef3-1833-4286-9b26-8b33c154f047",
   "metadata": {},
   "outputs": [],
   "source": [
    "database_name = \"test_hudi_database\"\n",
    "table_name = \"test_hudi_table\""
   ]
  },
  {
   "cell_type": "markdown",
   "id": "b87d0bdf-d819-445f-a2e3-8bb7fcd0f4a3",
   "metadata": {},
   "source": [
    "## Checking the table's information in the Glue catalog"
   ]
  },
  {
   "cell_type": "markdown",
   "id": "73d93c13-0177-4d40-8e63-2487dac893e0",
   "metadata": {},
   "source": [
    "Let's query the table's information as it's found in the Glue catalog."
   ]
  },
  {
   "cell_type": "code",
   "execution_count": null,
   "id": "fe46e3a8-fbcd-49ff-9f29-cecfb102833a",
   "metadata": {},
   "outputs": [],
   "source": [
    "table_details = wr.catalog.table(database=database_name, table=table_name)\n",
    "table_details"
   ]
  },
  {
   "cell_type": "markdown",
   "id": "631f0b8d-3213-4ef3-bfdb-d529e4914f2b",
   "metadata": {},
   "source": [
    "A couple of things that are worth noting:\n",
    "* The Glue catalog has a record of the Hudi table information as fields you can query. This is different to iceberg, where the information is hidden, and is queried using the `$` syntax.\n",
    "* `status` is recorded as a partition. In the equivalent Iceberg example `status` is a hidden partition and so does not show as a partition in the Glue catalog. "
   ]
  },
  {
   "cell_type": "markdown",
   "id": "635b0f8d-ab4e-4952-aa49-0f2eab6eb4b1",
   "metadata": {},
   "source": [
    "## Querying the data"
   ]
  },
  {
   "cell_type": "markdown",
   "id": "1d9e8bae-2467-40af-987c-40dabb1aa9ed",
   "metadata": {},
   "source": [
    "We'll now query the dataset using `pydbtools`."
   ]
  },
  {
   "cell_type": "code",
   "execution_count": null,
   "id": "5d0ebfb2-e5f2-4d01-9f78-31a49a9ff889",
   "metadata": {},
   "outputs": [],
   "source": [
    "sql = f\"\"\"\n",
    "    SELECT *\n",
    "    FROM {database_name}.{table_name}\n",
    "    LIMIT 10\n",
    "\"\"\"\n",
    "df = pydb.read_sql_query(sql)\n",
    "df"
   ]
  },
  {
   "cell_type": "markdown",
   "id": "c12f121e-7153-485d-9172-bdcf082c8221",
   "metadata": {},
   "source": [
    "As the hoodie information is available via the query, we can construct the filepath to the file that contains any record using the `_hoodie_partition_path` and `_hoodie_file_name`, along with the table's location as shown below."
   ]
  },
  {
   "cell_type": "code",
   "execution_count": null,
   "id": "3dde8e45-9252-4be4-ad36-a74f3fc9bdf0",
   "metadata": {},
   "outputs": [],
   "source": [
    "table_location = wr.catalog.get_table_location(database=database_name, table=table_name)\n",
    "first_record_location = os.path.join(\n",
    "    table_location,\n",
    "    df._hoodie_partition_path[0],\n",
    "    df._hoodie_file_name[0]\n",
    ")\n",
    "record_df = wr.s3.read_parquet(first_record_location)\n",
    "record_df[record_df.PK == df.pk[0]]"
   ]
  },
  {
   "cell_type": "markdown",
   "id": "111976fe-126e-4f30-b7a8-eb6f47b0999c",
   "metadata": {},
   "source": [
    "## Limitations of Hudi with Athena"
   ]
  },
  {
   "cell_type": "markdown",
   "id": "59a2e750-56d7-425e-95ae-3fa3e1acedbb",
   "metadata": {},
   "source": [
    "As noted in the [AWS documentation for Hudi](https://docs.aws.amazon.com/athena/latest/ug/querying-hudi.html):\n",
    "\n",
    "* Athena does not support incremental queries.\n",
    "* Unlike for Iceberg, Athena does not support CTAS or INSERT INTO on Hudi data.\n",
    "* Using MSCK REPAIR TABLE on Hudi tables in Athena is not supported. If you need to load a Hudi table not created in AWS Glue, you need to use ALTER TABLE ADD PARTITION."
   ]
  }
 ],
 "metadata": {
  "kernelspec": {
   "display_name": "hudi-vs-iceberg",
   "language": "python",
   "name": "hudi_vs_iceberg"
  },
  "language_info": {
   "codemirror_mode": {
    "name": "ipython",
    "version": 3
   },
   "file_extension": ".py",
   "mimetype": "text/x-python",
   "name": "python",
   "nbconvert_exporter": "python",
   "pygments_lexer": "ipython3",
   "version": "3.9.4"
  }
 },
 "nbformat": 4,
 "nbformat_minor": 5
}
